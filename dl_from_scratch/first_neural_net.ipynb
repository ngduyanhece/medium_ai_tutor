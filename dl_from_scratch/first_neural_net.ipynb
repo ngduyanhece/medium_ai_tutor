{
 "cells": [
  {
   "cell_type": "code",
   "execution_count": 1,
   "metadata": {},
   "outputs": [],
   "source": [
    "import numpy as np"
   ]
  },
  {
   "cell_type": "markdown",
   "metadata": {},
   "source": [
    "### First Neural Net"
   ]
  },
  {
   "cell_type": "code",
   "execution_count": 2,
   "metadata": {},
   "outputs": [],
   "source": [
    "weights = np.array([0.5,0.48,-0.7])\n",
    "alpha = 0.1\n",
    "streetlights = np.array( [[ 1, 0, 1 ],\n",
    " [ 0, 1, 1 ],\n",
    " [ 0, 0, 1 ],\n",
    " [ 1, 1, 1 ],\n",
    " [ 0, 1, 1 ],\n",
    " [ 1, 0, 1 ] ] )"
   ]
  },
  {
   "cell_type": "code",
   "execution_count": 6,
   "metadata": {},
   "outputs": [
    {
     "name": "stdout",
     "output_type": "stream",
     "text": [
      "Prediction:-6.4551059883724e-05\n",
      "Prediction:0.9999438843127002\n",
      "Prediction:-0.0004632974579221604\n",
      "Prediction:1.0004187053746973\n",
      "Prediction:0.9999176961210127\n",
      "Prediction:-7.521022042551978e-05\n",
      "Prediction:-3.195460921687974e-05\n",
      "Prediction:0.999972221978927\n",
      "Prediction:-0.00022934239476240208\n",
      "Prediction:1.000207268332114\n",
      "Prediction:0.999959258156195\n",
      "Prediction:-3.7231127832250464e-05\n",
      "Prediction:-1.5818277498709195e-05\n",
      "Prediction:0.9999862493224624\n",
      "Prediction:-0.00011352951097061389\n",
      "Prediction:1.0001026023657922\n",
      "Prediction:0.9999798319359084\n",
      "Prediction:-1.843026989742541e-05\n",
      "Prediction:-7.830398956987798e-06\n",
      "Prediction:0.9999931931189235\n",
      "Prediction:-5.6199595646587536e-05\n",
      "Prediction:1.0000507904192921\n",
      "Prediction:0.9999900163708451\n",
      "Prediction:-9.123392436216092e-06\n",
      "Prediction:-3.876219608481602e-06\n",
      "Prediction:0.9999966304453234\n",
      "Prediction:-2.7820031313856552e-05\n",
      "Prediction:1.000025142370485\n",
      "Prediction:0.9999950578852931\n",
      "Prediction:-4.516279714026161e-06\n",
      "Prediction:-1.91881370242621e-06\n",
      "Prediction:0.9999983319966665\n",
      "Prediction:-1.3771525103822607e-05\n",
      "Prediction:1.000012446024319\n",
      "Prediction:0.9999975535449797\n",
      "Prediction:-2.2356574799658294e-06\n",
      "Prediction:-9.498548347989412e-07\n",
      "Prediction:0.9999991743018073\n",
      "Prediction:-6.817206693313977e-06\n",
      "Prediction:1.00000616105476\n",
      "Prediction:0.9999987889511631\n",
      "Prediction:-1.106699447533636e-06\n",
      "Prediction:-4.701989576109607e-07\n",
      "Prediction:0.9999995912613026\n",
      "Prediction:-3.3746666945559083e-06\n",
      "Prediction:1.0000030498571097\n",
      "Prediction:0.9999994005042897\n",
      "Prediction:-5.478404778090285e-07\n",
      "Prediction:-2.327587872426413e-07\n",
      "Prediction:0.9999997976653884\n",
      "Prediction:-1.6705339608423074e-06\n",
      "Prediction:1.000001509746099\n",
      "Prediction:0.9999997032364869\n",
      "Prediction:-2.7119304104341965e-07\n",
      "Prediction:-1.1522069998560456e-07\n",
      "Prediction:0.9999998998399335\n",
      "Prediction:-8.26950915996179e-07\n",
      "Prediction:1.0000007473574013\n",
      "Prediction:0.9999998530955583\n",
      "Prediction:-1.3424649783000856e-07\n",
      "Error:3.6815855403914943e-13\n",
      "\n"
     ]
    }
   ],
   "source": [
    "walk_vs_stop = np.array( [ 0, 1, 0, 1, 1, 0 ] )\n",
    "input = streetlights[0]\n",
    "goal_prediction = walk_vs_stop[0]\n",
    "for iteration in range(100):\n",
    "    error_for_all_lights = 0\n",
    "    for row_index in range(len(walk_vs_stop)):\n",
    "        input = streetlights[row_index]\n",
    "        goal_prediction = walk_vs_stop[row_index]\n",
    "        prediction = input.dot(weights)\n",
    "        error = (goal_prediction - prediction) ** 2\n",
    "        error_for_all_lights += error\n",
    "        delta = prediction - goal_prediction\n",
    "        weights = weights - (alpha * (input * delta))\n",
    "        if iteration % 10 == 0:\n",
    "            print(\"Prediction:\" + str(prediction))\n",
    "print(\"Error:\" + str(error_for_all_lights) + \"\\n\")"
   ]
  },
  {
   "cell_type": "markdown",
   "metadata": {},
   "source": [
    "### Deep Neureal Net"
   ]
  },
  {
   "cell_type": "code",
   "execution_count": 7,
   "metadata": {},
   "outputs": [],
   "source": [
    "np.random.seed(1)"
   ]
  },
  {
   "cell_type": "code",
   "execution_count": 8,
   "metadata": {},
   "outputs": [],
   "source": [
    "def relu(x):\n",
    "    return (x > 0) * x"
   ]
  },
  {
   "cell_type": "code",
   "execution_count": 10,
   "metadata": {},
   "outputs": [],
   "source": [
    "#derivative of relu\n",
    "def relu2deriv(output):\n",
    "    return output>0"
   ]
  },
  {
   "cell_type": "code",
   "execution_count": 14,
   "metadata": {},
   "outputs": [
    {
     "name": "stdout",
     "output_type": "stream",
     "text": [
      "iter:0 Error:2.2130220725253933\n",
      "iter:10 Error:0.9054407770860583\n",
      "iter:20 Error:0.7782743640487393\n",
      "iter:30 Error:0.5356083332890526\n",
      "iter:40 Error:0.20906037104745887\n",
      "iter:50 Error:0.055766024023662986\n"
     ]
    }
   ],
   "source": [
    "streetlights = np.array( [[ 1, 0, 1 ],\n",
    " [ 0, 1, 1 ],\n",
    " [ 0, 0, 1 ],\n",
    " [ 1, 1, 1 ] ] )\n",
    "walk_vs_stop = np.array([[ 1, 1, 0, 0]]).T\n",
    "\n",
    "alpha = 0.2\n",
    "hidden_size = 4\n",
    "weights_0_1 = 2*np.random.random((3,hidden_size)) - 1\n",
    "weights_1_2 = 2*np.random.random((hidden_size,1)) - 1\n",
    "for iteration in range(60):\n",
    "    layer_2_error = 0\n",
    "    for i in range(len(streetlights)):\n",
    "        layer_0 = streetlights[i:i+1]\n",
    "        layer_1 = relu(np.dot(layer_0,weights_0_1))\n",
    "        layer_2 = np.dot(layer_1,weights_1_2)\n",
    "        layer_2_error += np.sum((layer_2 - walk_vs_stop[i:i+1]) ** 2)\n",
    "        layer_2_delta = (layer_2 - walk_vs_stop[i:i+1])\n",
    "        layer_1_delta=layer_2_delta.dot(weights_1_2.T)*relu2deriv(layer_1)\n",
    "        weights_1_2 -= alpha * layer_1.T.dot(layer_2_delta)\n",
    "        weights_0_1 -= alpha * layer_0.T.dot(layer_1_delta)\n",
    "    if(iteration % 10 == 0):\n",
    "        print(\"iter:\" + str(iteration) + \" Error:\" + str(layer_2_error))"
   ]
  }
 ],
 "metadata": {
  "kernelspec": {
   "display_name": "Python 3",
   "language": "python",
   "name": "python3"
  },
  "language_info": {
   "codemirror_mode": {
    "name": "ipython",
    "version": 3
   },
   "file_extension": ".py",
   "mimetype": "text/x-python",
   "name": "python",
   "nbconvert_exporter": "python",
   "pygments_lexer": "ipython3",
   "version": "3.6.8"
  }
 },
 "nbformat": 4,
 "nbformat_minor": 2
}
