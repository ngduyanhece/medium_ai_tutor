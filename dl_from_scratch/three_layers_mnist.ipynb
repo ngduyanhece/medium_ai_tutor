{
 "cells": [
  {
   "cell_type": "code",
   "execution_count": 1,
   "metadata": {},
   "outputs": [
    {
     "name": "stderr",
     "output_type": "stream",
     "text": [
      "Using TensorFlow backend.\n"
     ]
    }
   ],
   "source": [
    "import sys, numpy as np\n",
    "from keras.datasets import mnist"
   ]
  },
  {
   "cell_type": "markdown",
   "metadata": {},
   "source": [
    "#### load the mnist data"
   ]
  },
  {
   "cell_type": "code",
   "execution_count": 2,
   "metadata": {},
   "outputs": [],
   "source": [
    "(x_train, y_train), (x_test, y_test) = mnist.load_data()"
   ]
  },
  {
   "cell_type": "markdown",
   "metadata": {},
   "source": [
    "#### flat the image"
   ]
  },
  {
   "cell_type": "code",
   "execution_count": 3,
   "metadata": {},
   "outputs": [],
   "source": [
    "images, labels = (x_train[0:1000].reshape(1000,28*28)/255, y_train[0:1000])"
   ]
  },
  {
   "cell_type": "markdown",
   "metadata": {},
   "source": [
    "#### create one hot label"
   ]
  },
  {
   "cell_type": "code",
   "execution_count": 4,
   "metadata": {},
   "outputs": [],
   "source": [
    "one_hot_labels = np.zeros((len(labels),10))\n",
    "for i,l in enumerate(labels):\n",
    "    one_hot_labels[i][l] = 1\n",
    "labels = one_hot_labels"
   ]
  },
  {
   "cell_type": "markdown",
   "metadata": {},
   "source": [
    "#### Repeat the same for test image"
   ]
  },
  {
   "cell_type": "code",
   "execution_count": 5,
   "metadata": {},
   "outputs": [],
   "source": [
    "test_images = x_test.reshape(len(x_test),28*28)/255\n",
    "test_labels = np.zeros((len(y_test),10))\n",
    "for i,l in enumerate(y_test):\n",
    "    test_labels[i][l] = 1"
   ]
  },
  {
   "cell_type": "code",
   "execution_count": 6,
   "metadata": {},
   "outputs": [],
   "source": [
    "np.random.seed(1)\n",
    "relu = lambda x:(x>=0) * x\n",
    "relu2deriv = lambda x: x>=0\n",
    "alpha, iterations, hidden_size, pixels_per_image, num_labels = (0.005, 350, 40, 784, 10)"
   ]
  },
  {
   "cell_type": "code",
   "execution_count": 7,
   "metadata": {},
   "outputs": [],
   "source": [
    "weights_0_1 = 0.2*np.random.random((pixels_per_image,hidden_size)) - 0.1\n",
    "weights_1_2 = 0.2*np.random.random((hidden_size,num_labels)) - 0.1"
   ]
  },
  {
   "cell_type": "code",
   "execution_count": 10,
   "metadata": {},
   "outputs": [
    {
     "name": "stdout",
     "output_type": "stream",
     "text": [
      " Test-Err:0.654 Test-Acc:0.7073\n",
      " I:9 Error:0.108 Correct:1.0 Test-Err:0.662 Test-Acc:0.704\n",
      " I:19 Error:0.107 Correct:0.999 Test-Err:0.671 Test-Acc:0.702\n",
      " I:29 Error:0.107 Correct:0.999 Test-Err:0.679 Test-Acc:0.7007\n",
      " I:39 Error:0.106 Correct:0.998 Test-Err:0.685 Test-Acc:0.6985\n",
      " I:49 Error:0.106 Correct:0.998 Test-Err:0.691 Test-Acc:0.6973\n",
      " I:59 Error:0.105 Correct:0.998 Test-Err:0.697 Test-Acc:0.6963\n",
      " I:69 Error:0.105 Correct:0.998 Test-Err:0.702 Test-Acc:0.6946\n",
      " I:79 Error:0.105 Correct:0.998 Test-Err:0.706 Test-Acc:0.6938\n",
      " I:89 Error:0.105 Correct:0.998 Test-Err:0.710 Test-Acc:0.6937\n",
      " I:99 Error:0.105 Correct:0.998 Test-Err:0.712 Test-Acc:0.6932\n",
      " I:109 Error:0.104 Correct:0.998 Test-Err:0.715 Test-Acc:0.6914\n",
      " I:119 Error:0.104 Correct:0.999 Test-Err:0.718 Test-Acc:0.6916\n",
      " I:129 Error:0.104 Correct:0.999 Test-Err:0.721 Test-Acc:0.6904\n",
      " I:139 Error:0.104 Correct:0.999 Test-Err:0.725 Test-Acc:0.6895\n",
      " I:149 Error:0.104 Correct:0.999 Test-Err:0.729 Test-Acc:0.6882\n",
      " I:159 Error:0.104 Correct:0.998 Test-Err:0.733 Test-Acc:0.6874\n",
      " I:169 Error:0.104 Correct:0.998 Test-Err:0.736 Test-Acc:0.6851\n",
      " I:179 Error:0.104 Correct:0.998 Test-Err:0.739 Test-Acc:0.6832\n",
      " I:189 Error:0.103 Correct:0.998 Test-Err:0.742 Test-Acc:0.6819\n",
      " I:199 Error:0.104 Correct:0.999 Test-Err:0.745 Test-Acc:0.6797\n",
      " I:209 Error:0.104 Correct:0.999 Test-Err:0.748 Test-Acc:0.6782\n",
      " I:219 Error:0.104 Correct:0.999 Test-Err:0.751 Test-Acc:0.6776\n",
      " I:229 Error:0.104 Correct:0.998 Test-Err:0.754 Test-Acc:0.6756\n",
      " I:239 Error:0.104 Correct:0.998 Test-Err:0.755 Test-Acc:0.6736\n",
      " I:249 Error:0.105 Correct:0.998 Test-Err:0.756 Test-Acc:0.672\n",
      " I:259 Error:0.105 Correct:0.999 Test-Err:0.756 Test-Acc:0.6724\n",
      " I:269 Error:0.105 Correct:0.998 Test-Err:0.756 Test-Acc:0.6733\n",
      " I:279 Error:0.105 Correct:0.998 Test-Err:0.755 Test-Acc:0.6724\n",
      " I:289 Error:0.106 Correct:0.998 Test-Err:0.754 Test-Acc:0.6729\n",
      " I:299 Error:0.106 Correct:0.998 Test-Err:0.752 Test-Acc:0.673\n",
      " I:309 Error:0.106 Correct:0.999 Test-Err:0.751 Test-Acc:0.6739\n",
      " I:319 Error:0.106 Correct:1.0 Test-Err:0.750 Test-Acc:0.6733\n",
      " I:329 Error:0.106 Correct:1.0 Test-Err:0.749 Test-Acc:0.6742\n",
      " I:339 Error:0.105 Correct:1.0 Test-Err:0.749 Test-Acc:0.6761\n",
      " I:348 Error:0.106 Correct:1.0 Test-Err:0.749 Test-Acc:0.6753\n",
      " I:349 Error:7.490 Correct:6.753"
     ]
    }
   ],
   "source": [
    "for j in range(iterations):\n",
    "    error, correct_cnt = (0.0, 0)\n",
    "    for i in range(len(images)):\n",
    "        layer_0 = images[i:i+1]\n",
    "        layer_1 = relu(np.dot(layer_0,weights_0_1))\n",
    "        layer_2 = np.dot(layer_1,weights_1_2)\n",
    "        error += np.sum((labels[i:i+1] - layer_2) ** 2)\n",
    "        correct_cnt += int(np.argmax(layer_2) == np.argmax(labels[i:i+1]))\n",
    "        layer_2_delta = (labels[i:i+1] - layer_2)\n",
    "        layer_1_delta = layer_2_delta.dot(weights_1_2.T)* relu2deriv(layer_1)\n",
    "        weights_1_2 += alpha * layer_1.T.dot(layer_2_delta)\n",
    "        weights_0_1 += alpha * layer_0.T.dot(layer_1_delta)\n",
    "    if(j % 10 == 0 or j == iterations-1):\n",
    "        error, correct_cnt = (0.0, 0)\n",
    "        for i in range(len(test_images)):\n",
    "            layer_0 = test_images[i:i+1]\n",
    "            layer_1 = relu(np.dot(layer_0,weights_0_1))\n",
    "            layer_2 = np.dot(layer_1,weights_1_2)\n",
    "            error += np.sum((test_labels[i:i+1] - layer_2) ** 2)\n",
    "            correct_cnt += int(np.argmax(layer_2) == np.argmax(test_labels[i:i+1]))\n",
    "        sys.stdout.write(\" Test-Err:\" + str(error/float(len(test_images)))[0:5] +\" Test-Acc:\" + str(correct_cnt/float(len(test_images))))\n",
    "        print()\n",
    "    sys.stdout.write(\"\\r\"+ \" I:\"+str(j)+ \" Error:\" + str(error/float(len(images)))[0:5] +\" Correct:\" + str(correct_cnt/float(len(images))))"
   ]
  },
  {
   "cell_type": "code",
   "execution_count": 11,
   "metadata": {},
   "outputs": [
    {
     "name": "stdout",
     "output_type": "stream",
     "text": [
      "\n",
      "I:0 Test-Err:0.601 Test-Acc:0.6307 Train-Err:0.589 Train-Acc:0.646\n",
      "I:10 Test-Err:0.568 Test-Acc:0.7035 Train-Err:0.538 Train-Acc:0.716\n",
      "I:20 Test-Err:0.494 Test-Acc:0.7423 Train-Err:0.484 Train-Acc:0.724\n",
      "I:30 Test-Err:0.484 Test-Acc:0.7493 Train-Err:0.476 Train-Acc:0.759\n",
      "I:40 Test-Err:0.454 Test-Acc:0.7848 Train-Err:0.454 Train-Acc:0.765\n",
      "I:50 Test-Err:0.457 Test-Acc:0.7749 Train-Err:0.431 Train-Acc:0.784\n",
      "I:60 Test-Err:0.456 Test-Acc:0.7786 Train-Err:0.445 Train-Acc:0.794\n",
      "I:70 Test-Err:0.461 Test-Acc:0.7672 Train-Err:0.451 Train-Acc:0.773\n",
      "I:80 Test-Err:0.449 Test-Acc:0.7868 Train-Err:0.425 Train-Acc:0.805\n",
      "I:90 Test-Err:0.458 Test-Acc:0.7665 Train-Err:0.427 Train-Acc:0.795\n",
      "I:100 Test-Err:0.451 Test-Acc:0.7817 Train-Err:0.416 Train-Acc:0.799\n",
      "I:110 Test-Err:0.449 Test-Acc:0.7915 Train-Err:0.412 Train-Acc:0.808\n",
      "I:120 Test-Err:0.438 Test-Acc:0.7846 Train-Err:0.408 Train-Acc:0.821\n",
      "I:130 Test-Err:0.441 Test-Acc:0.7801 Train-Err:0.416 Train-Acc:0.8\n",
      "I:140 Test-Err:0.446 Test-Acc:0.7843 Train-Err:0.394 Train-Acc:0.83\n",
      "I:150 Test-Err:0.435 Test-Acc:0.7759 Train-Err:0.401 Train-Acc:0.804\n",
      "I:160 Test-Err:0.440 Test-Acc:0.7887 Train-Err:0.403 Train-Acc:0.817\n",
      "I:170 Test-Err:0.434 Test-Acc:0.7878 Train-Err:0.383 Train-Acc:0.835\n",
      "I:180 Test-Err:0.434 Test-Acc:0.7965 Train-Err:0.392 Train-Acc:0.828\n",
      "I:190 Test-Err:0.432 Test-Acc:0.7915 Train-Err:0.369 Train-Acc:0.84\n",
      "I:200 Test-Err:0.436 Test-Acc:0.7834 Train-Err:0.374 Train-Acc:0.842\n",
      "I:210 Test-Err:0.434 Test-Acc:0.7945 Train-Err:0.384 Train-Acc:0.829\n",
      "I:220 Test-Err:0.430 Test-Acc:0.7956 Train-Err:0.365 Train-Acc:0.856\n",
      "I:230 Test-Err:0.432 Test-Acc:0.7854 Train-Err:0.373 Train-Acc:0.844\n",
      "I:240 Test-Err:0.435 Test-Acc:0.7912 Train-Err:0.369 Train-Acc:0.847\n",
      "I:250 Test-Err:0.435 Test-Acc:0.7911 Train-Err:0.360 Train-Acc:0.85\n",
      "I:260 Test-Err:0.426 Test-Acc:0.7936 Train-Err:0.355 Train-Acc:0.861\n",
      "I:270 Test-Err:0.431 Test-Acc:0.7936 Train-Err:0.359 Train-Acc:0.844\n",
      "I:280 Test-Err:0.431 Test-Acc:0.7985 Train-Err:0.358 Train-Acc:0.854\n",
      "I:290 Test-Err:0.439 Test-Acc:0.7954 Train-Err:0.342 Train-Acc:0.873\n",
      "I:300 Test-Err:0.460 Test-Acc:0.7967 Train-Err:0.349 Train-Acc:0.858\n",
      "I:310 Test-Err:0.445 Test-Acc:0.7974 Train-Err:0.355 Train-Acc:0.874\n",
      "I:320 Test-Err:0.456 Test-Acc:0.788 Train-Err:0.348 Train-Acc:0.867\n",
      "I:330 Test-Err:0.440 Test-Acc:0.7845 Train-Err:0.337 Train-Acc:0.869\n",
      "I:340 Test-Err:0.444 Test-Acc:0.7844 Train-Err:0.351 Train-Acc:0.855"
     ]
    }
   ],
   "source": [
    "for j in range(iterations):\n",
    "    error, correct_cnt = (0.0,0)\n",
    "    for i in range(len(images)):\n",
    "        layer_0 = images[i:i+1]\n",
    "        layer_1 = relu(np.dot(layer_0,weights_0_1))\n",
    "        dropout_mask = np.random.randint(2, size=layer_1.shape)\n",
    "        layer_1 *= dropout_mask * 2\n",
    "        layer_2 = np.dot(layer_1,weights_1_2)\n",
    "        error += np.sum((labels[i:i+1] - layer_2) ** 2)\n",
    "        correct_cnt += int(np.argmax(layer_2) == np.argmax(labels[i:i+1]))\n",
    "        layer_2_delta = (labels[i:i+1] - layer_2)\n",
    "        layer_1_delta = layer_2_delta.dot(weights_1_2.T) * relu2deriv(layer_1)\n",
    "        layer_1_delta *= dropout_mask\n",
    "        weights_1_2 += alpha * layer_1.T.dot(layer_2_delta)\n",
    "        weights_0_1 += alpha * layer_0.T.dot(layer_1_delta)\n",
    "    if(j%10 == 0):\n",
    "        test_error = 0.0\n",
    "        test_correct_cnt = 0\n",
    "        for i in range(len(test_images)):\n",
    "            layer_0 = test_images[i:i+1]\n",
    "            layer_1 = relu(np.dot(layer_0,weights_0_1))\n",
    "            layer_2 = np.dot(layer_1, weights_1_2)\n",
    "            test_error += np.sum((test_labels[i:i+1] - layer_2) ** 2)\n",
    "            test_correct_cnt += int(np.argmax(layer_2) == np.argmax(test_labels[i:i+1]))\n",
    "        sys.stdout.write(\"\\n\" + \"I:\" + str(j) + \" Test-Err:\" + str(test_error/ float(len(test_images)))[0:5] +\\\n",
    " \" Test-Acc:\" + str(test_correct_cnt/ float(len(test_images)))+\\\n",
    " \" Train-Err:\" + str(error/ float(len(images)))[0:5] +\\\n",
    " \" Train-Acc:\" + str(correct_cnt/ float(len(images))))"
   ]
  }
 ],
 "metadata": {
  "kernelspec": {
   "display_name": "Python 3",
   "language": "python",
   "name": "python3"
  },
  "language_info": {
   "codemirror_mode": {
    "name": "ipython",
    "version": 3
   },
   "file_extension": ".py",
   "mimetype": "text/x-python",
   "name": "python",
   "nbconvert_exporter": "python",
   "pygments_lexer": "ipython3",
   "version": "3.6.8"
  }
 },
 "nbformat": 4,
 "nbformat_minor": 2
}
